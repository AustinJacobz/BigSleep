{
  "nbformat": 4,
  "nbformat_minor": 0,
  "metadata": {
    "colab": {
      "name": "Big Sleep Tweaked",
      "provenance": [],
      "collapsed_sections": [],
      "include_colab_link": true
    },
    "kernelspec": {
      "name": "python3",
      "display_name": "Python 3"
    },
    "accelerator": "GPU"
  },
  "cells": [
    {
      "cell_type": "markdown",
      "metadata": {
        "id": "view-in-github",
        "colab_type": "text"
      },
      "source": [
        "<a href=\"https://colab.research.google.com/github/AustinJacobz/BigSleep/blob/main/Big_Sleep_Tweaked.ipynb\" target=\"_parent\"><img src=\"https://colab.research.google.com/assets/colab-badge.svg\" alt=\"Open In Colab\"/></a>"
      ]
    },
    {
      "cell_type": "markdown",
      "metadata": {
        "id": "4NAzOO_7Rcnn"
      },
      "source": [
        "# BEFORE RUNNING: Go to File > Save a copy in Drive to save a copy in your drive\n",
        "\n",
        "---\n",
        "\n"
      ]
    },
    {
      "cell_type": "markdown",
      "metadata": {
        "id": "VleLNr7NQQsT"
      },
      "source": [
        "# Run this first"
      ]
    },
    {
      "cell_type": "code",
      "metadata": {
        "id": "D2jUsCZXaqcw"
      },
      "source": [
        "!pip install big-sleep --upgrade"
      ],
      "execution_count": null,
      "outputs": []
    },
    {
      "cell_type": "markdown",
      "metadata": {
        "id": "rH4Mh5aFQX_F"
      },
      "source": [
        "# Generate images\n",
        "Enter your prompt in the \"Text\" field to the right of the code box below.\n",
        "\n",
        "You can supply it with multiple phrases at once using backslashes to seperate them to attempt to further specify what the image should be, e.g:\n",
        "\n",
        "```\n",
        "an armchair in the form of pikachu\\an armchair imitating pikachu\\abstract\n",
        "```\n",
        "\n",
        "The model will train for 20 epochs. Running the entire course is not recommended because it'll take a very very long time and Colab will probably time you out. On average there's a coherent and decent output before the end of the first epoch but you can go for longer if you want.\n",
        "\n",
        "To stop a run, you might need to click the \"stop\" button 3 times which will have Colab prompt you to reset the runtime.\n",
        "\n",
        "\n",
        "---\n",
        "\n",
        "\n",
        "Parameters:\n",
        "\n",
        "TEXT - This is the prompt you want the AI to use to generate your image. It's ideal to use something descriptive but not a requirement.\n",
        "\n",
        "SAVE_EVERY - Default: 100 - How often the output image will be saved and displayed.\n",
        "\n",
        "SAVE_PROGRESS - Default: False - Saves the output so that it can be resumed\n",
        "\n",
        "\n",
        "\n",
        "LEARNING_RATE - Default: 8e-2 - Affects how much compensation there is for approximated errors. Values too low can result in the output not resembling the prompt at all (especially for more obscure prompts) or stagnating and barely changing, values too high can result in the output being too wild or can result in a feedback loop where the image completely breaks down.\n",
        "\n",
        "It's often easier for the AI to figure out more obscure or weird prompts with a higher learning rate (often, at low learning rates the AI will commonly output images of animals for more obscure prompts.) but raising the learning rate often leads to less stability.\n",
        "\n",
        "This value takes a lot of work to fine-tune. I usually set it to something higher. 2e-1 (0.2) can result in some great output but it's common to see the images break down with such a high value. 8e-2 (0.08) is probably a decent balance. Play around for yourself. Different prompts work better with different learning rates.\n"
      ]
    },
    {
      "cell_type": "code",
      "metadata": {
        "id": "NfJ0RMCAauV3"
      },
      "source": [
        "from tqdm import trange\n",
        "import string\n",
        "from IPython.display import Image, display\n",
        "\n",
        "from big_sleep import Imagine\n",
        "\n",
        "TEXT = '' #@param {type:\"string\"}\n",
        "\n",
        "#Default: 100\n",
        "SAVE_EVERY = 100 #@param {type:\"number\"} \n",
        "\n",
        "#Default: False\n",
        "SAVE_PROGRESS = False #@param {type:\"boolean\"}\n",
        "\n",
        "#Default: False\n",
        "#EXPERIMENTAL_RESAMPLE = False #@param {type:\"boolean\"}\n",
        "\n",
        "#Default: 5e-2\n",
        "LEARNING_RATE = 8e-2 #@param {type:\"number\"}\n",
        "\n",
        "#Default: 1050\n",
        "ITERATIONS = 1050 #@param {type:\"number\"} \n",
        "\n",
        "model = Imagine(\n",
        "    text = TEXT,\n",
        "    save_every = SAVE_EVERY,\n",
        "    lr = LEARNING_RATE,\n",
        "    iterations = ITERATIONS,\n",
        "    save_progress = SAVE_PROGRESS,\n",
        "    #experimental_resample = EXPERIMENTAL_RESAMPLE\n",
        ")\n",
        "\n",
        "for epoch in trange(20, desc = 'epochs'):\n",
        "    for i in trange(1000, desc = 'iteration'):\n",
        "        model.train_step(epoch, i)\n",
        "\n",
        "        if i == 0 or i % model.save_every != 0:\n",
        "            continue\n",
        "\n",
        "        filename = TEXT.translate(str.maketrans('', '', string.punctuation)).replace(' ', '_')\n",
        "        image = Image(f'./{filename}.png')\n",
        "        display(image)"
      ],
      "execution_count": null,
      "outputs": []
    }
  ]
}